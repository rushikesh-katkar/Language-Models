{
 "cells": [
  {
   "cell_type": "code",
   "execution_count": 1,
   "id": "4b955d57",
   "metadata": {},
   "outputs": [],
   "source": [
    "import torch\n",
    "import torch.nn.functional as F\n",
    "import matplotlib.pyplot as plt\n",
    "%matplotlib inline"
   ]
  },
  {
   "cell_type": "code",
   "execution_count": 4,
   "id": "c1f41c13",
   "metadata": {},
   "outputs": [
    {
     "data": {
      "text/plain": [
       "['March 2024',\n",
       " '',\n",
       " 'I met the Reddits before we even started Y Combinator. In fact they were one of the reasons we started it.',\n",
       " '',\n",
       " \"YC grew out of a talk I gave to the Harvard Computer Society (the undergrad computer club) about how to start a startup. Everyone else in the audience was probably local, but Steve and Alexis came up on the train from the University of Virginia, where they were seniors. Since they'd come so far I agreed to meet them for coffee. They told me about the startup idea we'd later fund them to drop: a way to order fast food on your cellphone.\",\n",
       " '',\n",
       " \"This was before smartphones. They'd have had to make deals with cell carriers and fast food chains just to get it launched. So it was not going to happen. It still doesn't exist, 19 years later. But I was impressed with their brains and their energy. In fact I was so impressed with them and some of the other people I met at that talk that I decided to start something to fund them. A few days later I told Steve and Alexis that we were starting Y Combinator, and encouraged them to apply.\",\n",
       " '',\n",
       " 'That first batch we didn\\'t have any way to identify applicants, so we made up nicknames for them. The Reddits were the \"Cell food muffins.\" \"Muffin\" is a term of endearment Jessica uses for things like small dogs and two year olds. So that gives you some idea what kind of impression Steve and Alexis made in those days. They had the look of slightly ruffled surprise that baby birds have.',\n",
       " '']"
      ]
     },
     "execution_count": 4,
     "metadata": {},
     "output_type": "execute_result"
    }
   ],
   "source": [
    "words = open(\"1.Abstract.txt\").read().splitlines()\n",
    "words[:10]"
   ]
  },
  {
   "cell_type": "code",
   "execution_count": 5,
   "id": "581bec2f",
   "metadata": {},
   "outputs": [
    {
     "data": {
      "text/plain": [
       "8467"
      ]
     },
     "execution_count": 5,
     "metadata": {},
     "output_type": "execute_result"
    }
   ],
   "source": [
    "len(words)"
   ]
  },
  {
   "cell_type": "code",
   "execution_count": 6,
   "id": "d3ce348b",
   "metadata": {},
   "outputs": [],
   "source": [
    "### mappings \n",
    "chars = sorted(list(set(\"\".join(words))))\n",
    "if \".\" in chars:\n",
    "    stoi = {s:i for i,s in enumerate(chars)}\n",
    "else:\n",
    "    stoi = {s:i+1 for i,s in enumerate(chars)}\n",
    "    stoi[\".\"] = 0\n",
    "    \n",
    "itos = {i:s for s,i in stoi.items()}\n",
    "\n",
    "vocab_size = len(itos)"
   ]
  },
  {
   "cell_type": "code",
   "execution_count": 16,
   "id": "ff038e64",
   "metadata": {},
   "outputs": [
    {
     "data": {
      "text/plain": [
       "{'\\t': 0,\n",
       " ' ': 1,\n",
       " '!': 2,\n",
       " '\"': 3,\n",
       " '$': 4,\n",
       " '%': 5,\n",
       " '&': 6,\n",
       " \"'\": 7,\n",
       " '(': 8,\n",
       " ')': 9,\n",
       " '*': 10,\n",
       " '+': 11,\n",
       " ',': 12,\n",
       " '-': 13,\n",
       " '.': 14,\n",
       " '/': 15,\n",
       " '0': 16,\n",
       " '1': 17,\n",
       " '2': 18,\n",
       " '3': 19,\n",
       " '4': 20,\n",
       " '5': 21,\n",
       " '6': 22,\n",
       " '7': 23,\n",
       " '8': 24,\n",
       " '9': 25,\n",
       " ':': 26,\n",
       " ';': 27,\n",
       " '<': 28,\n",
       " '=': 29,\n",
       " '>': 30,\n",
       " '?': 31,\n",
       " '@': 32,\n",
       " 'A': 33,\n",
       " 'B': 34,\n",
       " 'C': 35,\n",
       " 'D': 36,\n",
       " 'E': 37,\n",
       " 'F': 38,\n",
       " 'G': 39,\n",
       " 'H': 40,\n",
       " 'I': 41,\n",
       " 'J': 42,\n",
       " 'K': 43,\n",
       " 'L': 44,\n",
       " 'M': 45,\n",
       " 'N': 46,\n",
       " 'O': 47,\n",
       " 'P': 48,\n",
       " 'Q': 49,\n",
       " 'R': 50,\n",
       " 'S': 51,\n",
       " 'T': 52,\n",
       " 'U': 53,\n",
       " 'V': 54,\n",
       " 'W': 55,\n",
       " 'X': 56,\n",
       " 'Y': 57,\n",
       " 'Z': 58,\n",
       " '[': 59,\n",
       " ']': 60,\n",
       " '^': 61,\n",
       " '_': 62,\n",
       " 'a': 63,\n",
       " 'b': 64,\n",
       " 'c': 65,\n",
       " 'd': 66,\n",
       " 'e': 67,\n",
       " 'f': 68,\n",
       " 'g': 69,\n",
       " 'h': 70,\n",
       " 'i': 71,\n",
       " 'j': 72,\n",
       " 'k': 73,\n",
       " 'l': 74,\n",
       " 'm': 75,\n",
       " 'n': 76,\n",
       " 'o': 77,\n",
       " 'p': 78,\n",
       " 'q': 79,\n",
       " 'r': 80,\n",
       " 's': 81,\n",
       " 't': 82,\n",
       " 'u': 83,\n",
       " 'v': 84,\n",
       " 'w': 85,\n",
       " 'x': 86,\n",
       " 'y': 87,\n",
       " 'z': 88,\n",
       " '|': 89,\n",
       " '²': 90,\n",
       " 'à': 91,\n",
       " 'é': 92,\n",
       " 'ê': 93,\n",
       " 'ö': 94,\n",
       " '–': 95,\n",
       " '—': 96,\n",
       " '’': 97,\n",
       " '≈': 98}"
      ]
     },
     "execution_count": 16,
     "metadata": {},
     "output_type": "execute_result"
    }
   ],
   "source": [
    "stoi"
   ]
  },
  {
   "cell_type": "code",
   "execution_count": 7,
   "id": "599db508",
   "metadata": {},
   "outputs": [
    {
     "data": {
      "text/plain": [
       "99"
      ]
     },
     "execution_count": 7,
     "metadata": {},
     "output_type": "execute_result"
    }
   ],
   "source": [
    "vocab_size"
   ]
  },
  {
   "cell_type": "code",
   "execution_count": 8,
   "id": "93efb83e",
   "metadata": {},
   "outputs": [
    {
     "name": "stdout",
     "output_type": "stream",
     "text": [
      "torch.Size([1075300, 8]) torch.Size([1075300])\n",
      "torch.Size([143184, 8]) torch.Size([143184])\n",
      "torch.Size([135902, 8]) torch.Size([135902])\n"
     ]
    }
   ],
   "source": [
    "## build the dataset\n",
    "block_size = 8\n",
    "\n",
    "def build_data(words):\n",
    "    X, Y = [], []\n",
    "    for w in words:\n",
    "        context = [0]*block_size\n",
    "        for ch in w + \".\":\n",
    "            ix = stoi[ch]\n",
    "            Y.append(ix)\n",
    "            X.append(context)\n",
    "            context = context[1:] + [ix]\n",
    "    \n",
    "    X = torch.tensor(X)\n",
    "    Y = torch.tensor(Y)\n",
    "    print(X.shape, Y.shape)\n",
    "    return X, Y\n",
    "\n",
    "\n",
    "import random \n",
    "random.seed(42)\n",
    "random.shuffle(words)\n",
    "n1 = int(0.8*len(words))\n",
    "n2 = int(0.9*len(words))\n",
    "\n",
    "Xtr, Ytr   = build_data(words[:n1])     ## train 80%\n",
    "Xval, Yval = build_data(words[n1:n2])   ## val   10%\n",
    "Xte, Yte   = build_data(words[n2:])     ## test  10%\n"
   ]
  },
  {
   "cell_type": "code",
   "execution_count": 9,
   "id": "9e72df4d",
   "metadata": {},
   "outputs": [],
   "source": [
    "g = torch.Generator().manual_seed(2100)\n",
    "\n",
    "############################################## LINEAR LAYER ##############################################\n",
    "class Linear:\n",
    "\n",
    "    def __init__(self, fan_in, fan_out, generator = g, bias = True):\n",
    "        self.weights = torch.randn((fan_in, fan_out),  generator = g) * (1/fan_in**0.5)\n",
    "        self.bias  = torch.randn(fan_out,  generator = g) if bias else None\n",
    "        self.training = True\n",
    "        \n",
    "    def __call__(self, x):\n",
    "        self.out = x @ self.weights\n",
    "        if self.bias is not None:\n",
    "            self.out += self.bias\n",
    "        return self.out\n",
    "    \n",
    "    def parameters(self):\n",
    "        return [self.weights] + ([] if self.bias is None else [self.bias])\n",
    "    \n",
    "############################################## BATCH NORM LAYER ##############################################\n",
    "\n",
    "class BatchNormld:\n",
    "    \n",
    "    def __init__(self, dim, eps= 1e-5, momentum = 0.01,training = True):\n",
    "        \n",
    "        self.eps = eps\n",
    "        self.momentum = momentum\n",
    "        \n",
    "        self.training = True\n",
    "        ## trainable parameters\n",
    "        self.gamma = torch.ones((dim,))\n",
    "        self.beta  = torch.zeros((dim,))\n",
    "        \n",
    "        ## running estimates of mean and var\n",
    "        \n",
    "        self.mean_running = torch.zeros((dim,))\n",
    "        self.var_running  = torch.ones((dim,))\n",
    "        \n",
    "    def __call__(self, x):\n",
    "        \n",
    "        if self.training:\n",
    "            \n",
    "            xmean = x.mean(0, keepdim = True)\n",
    "            xvar  = x.var(0, keepdim = True)\n",
    "        else:\n",
    "            \n",
    "            xmean = self.mean_running\n",
    "            xvar  = self.var_running\n",
    "            \n",
    "        with torch.no_grad():\n",
    "            if self.training:\n",
    "                self.mean_running = (1-self.momentum)*self.mean_running + self.momentum*xmean\n",
    "                self.var_running  = (1-self.momentum)*self.var_running  + self.momentum*xvar\n",
    "        \n",
    "        self.out = (x - xmean)/torch.sqrt(xvar + self.eps)\n",
    "        self.out = self.gamma * self.out + self.beta\n",
    "        \n",
    "        return self.out\n",
    "    \n",
    "    def parameters(self):\n",
    "        return [self.gamma, self.beta]\n",
    "############################################## TANH LAYER ##############################################\n",
    "class Tanh:\n",
    "    def __call__(self, x):\n",
    "        self.out = torch.tanh(x)\n",
    "        return self.out\n",
    "    \n",
    "    def parameters(self):\n",
    "        return []\n",
    "    \n",
    "############################################# Embedding layer ##########################################################\n",
    "\n",
    "class Embedding:\n",
    "    def __init__(self, vocab_size, n_emb, generator = g):\n",
    "        self.C = torch.randn((vocab_size, n_emb),  generator = g) \n",
    "        self.training = True\n",
    "        \n",
    "    def __call__(self, x):\n",
    "        self.out = self.C[x]\n",
    "        return self.out\n",
    "    \n",
    "    def parameters(self):\n",
    "        return [self.C] \n",
    "############################################# Flatten Layer ##########################################################\n",
    "\n",
    "class Flatten:\n",
    "    \n",
    "    def __call__(self, x): \n",
    "        self.out = x.view(x.shape[0], -1)\n",
    "        return self.out\n",
    "    \n",
    "    def parameters(self):\n",
    "        return [] \n",
    "\n",
    "############################################# Container ##########################################################\n",
    " \n",
    "class Sequential:\n",
    "    \n",
    "    def __init__(self, layers, generator = g):\n",
    "        self.layers = layers\n",
    "        self.training = True\n",
    "        \n",
    "    def __call__(self, x):\n",
    "        for layer in self.layers:\n",
    "            x = layer(x)\n",
    "        self.out = x\n",
    "        return self.out\n",
    "    \n",
    "    def parameters(self):\n",
    "        parameters = [p for layer in layers for p in layer.parameters()]\n",
    "        return parameters \n",
    "    "
   ]
  },
  {
   "cell_type": "code",
   "execution_count": 10,
   "id": "68927914",
   "metadata": {},
   "outputs": [],
   "source": [
    "g = torch.Generator().manual_seed(1245)\n",
    "nemb    = 20\n",
    "nhidden = 200\n",
    "\n",
    "# the model\n",
    "\n",
    "layers = [Embedding(vocab_size, nemb),Flatten(),\n",
    "          Linear(block_size*nemb, nhidden, generator = g), BatchNormld(nhidden), Tanh(),\n",
    "          Linear(nhidden, nhidden, generator = g), BatchNormld(nhidden), Tanh(),\n",
    "          Linear(nhidden, vocab_size, generator = g)]\n",
    "\n",
    "model = Sequential(layers)\n",
    "\n",
    "\n",
    "with torch.no_grad():\n",
    " # make model less confident at initialization\n",
    "    model.layers[-1].weights *= 0.1\n",
    " # apply gain for well behaved inputs to Tanh\n",
    "    for layer in model.layers[1:-1]: ## not applied to the Emb and last layers\n",
    "        if  isinstance(layer, Linear):\n",
    "            layer.weights *= 5/3      #### Kaiming Normalization\n",
    "\n",
    "            \n",
    "for p in model.parameters():\n",
    "    p.requires_grad = True\n",
    "    \n"
   ]
  },
  {
   "cell_type": "code",
   "execution_count": 11,
   "id": "1350983c",
   "metadata": {},
   "outputs": [
    {
     "name": "stdout",
     "output_type": "stream",
     "text": [
      "      0/ 200000 : 4.9717\n",
      "  10000/ 200000 : 2.4498\n",
      "  20000/ 200000 : 2.1000\n",
      "  30000/ 200000 : 1.9588\n",
      "  40000/ 200000 : 1.9087\n",
      "  50000/ 200000 : 1.7695\n",
      "  60000/ 200000 : 1.6335\n",
      "  70000/ 200000 : 1.7715\n",
      "  80000/ 200000 : 1.9047\n",
      "  90000/ 200000 : 1.6648\n",
      " 100000/ 200000 : 1.5195\n",
      " 110000/ 200000 : 1.3596\n",
      " 120000/ 200000 : 1.5022\n",
      " 130000/ 200000 : 1.4068\n",
      " 140000/ 200000 : 1.4086\n",
      " 150000/ 200000 : 1.4508\n",
      " 160000/ 200000 : 1.4323\n",
      " 170000/ 200000 : 1.5209\n",
      " 180000/ 200000 : 1.4135\n",
      " 190000/ 200000 : 1.4949\n"
     ]
    }
   ],
   "source": [
    "### Stochastic Gradient Descent\n",
    "\n",
    "epochs     = 200000\n",
    "batch_size = 200\n",
    "history    = []\n",
    "ud         = [] ## update ratio (lr x grad/data)\n",
    "for epoch in range(epochs):\n",
    "    \n",
    "    ## Construct Mini Batch\n",
    "    ix = torch.randint(0, Xtr.shape[0], (batch_size,), generator = g)\n",
    "    xb, yb = Xtr[ix], Ytr[ix]\n",
    "    \n",
    "    ## forward pass\n",
    "    logits = model(xb)\n",
    "    loss = F.cross_entropy(logits, yb)\n",
    "    \n",
    "    ## Backward pass\n",
    "    for layer in model.layers:\n",
    "        layer.out.retain_grad() ## would take out the retain graph\n",
    "        \n",
    "    for p in model.parameters():\n",
    "        p.grad = None\n",
    "    \n",
    "    loss.backward()\n",
    "    \n",
    "    ## update\n",
    "    \n",
    "    lr = 0.01 if epoch < 100000 else 0.001\n",
    "    \n",
    "    for p in model.parameters():\n",
    "        p.data -= lr*p.grad\n",
    "    \n",
    "    ## track stats\n",
    "    if epoch%10000 == 0:\n",
    "        print(f'{epoch:7d}/{epochs:7d} : {loss.item():.4f}')\n",
    "        \n",
    "    with torch.no_grad():\n",
    "        ud.append([(lr*p.grad.std()/p.data.std()).log10().item() for p in model.parameters()])\n",
    "        \n",
    "    history.append(loss.item())\n",
    "    \n",
    "#     break"
   ]
  },
  {
   "cell_type": "code",
   "execution_count": 12,
   "id": "74a71978",
   "metadata": {
    "scrolled": false
   },
   "outputs": [
    {
     "data": {
      "image/png": "[encoded data removed]",
      "text/plain": [
       "<Figure size 640x480 with 1 Axes>"
      ]
     },
     "metadata": {},
     "output_type": "display_data"
    }
   ],
   "source": [
    "plt.plot(torch.tensor(history).view(-1, 1000).mean(1));"
   ]
  },
  {
   "cell_type": "code",
   "execution_count": 13,
   "id": "32204f12",
   "metadata": {},
   "outputs": [],
   "source": [
    "### Put model in train == False model\n",
    "for layer in model.layers:\n",
    "    layer.training = False"
   ]
  },
  {
   "cell_type": "code",
   "execution_count": 14,
   "id": "ca0f6f0d",
   "metadata": {},
   "outputs": [
    {
     "name": "stdout",
     "output_type": "stream",
     "text": [
      "train 1.506914734840393\n",
      "val 1.5286625623703003\n"
     ]
    }
   ],
   "source": [
    "## Evaluate the model\n",
    "@torch.no_grad() ## disables grad tracking\n",
    "def split_loss(split):\n",
    "    x,y = {'train': (Xtr, Ytr),\n",
    "           'val':   (Xval, Yval),\n",
    "           'test':  (Xte, Yte)}[split]\n",
    "    \n",
    "    logits = model(x)\n",
    "    loss   = F.cross_entropy(logits, y)\n",
    "    \n",
    "    print(split, loss.item())\n",
    "    \n",
    "split_loss('train')\n",
    "split_loss('val')\n",
    "# split_loss('test') "
   ]
  },
  {
   "cell_type": "code",
   "execution_count": 17,
   "id": "82ed9743",
   "metadata": {
    "scrolled": true
   },
   "outputs": [
    {
     "name": "stdout",
     "output_type": "stream",
     "text": [
      "[6] Then yous lonce can make ad wnongh that the wars to atties this sormbarwe times that took at 20ur sexmpere, ingreses not get expandes when you start checeftumenfion of onal a company to heaving on finanated in somethe impricive.\n",
      "[4] Those diggress.\n",
      ".\n",
      "It pearfially not more than schere uf the ciry 1’ you osteal ant a lot exammant.\n",
      ".\n",
      "Yowhere were have you're actual fivien as impore end unless while sperious ay hackants for (ar.\n",
      ".\n",
      "ITeties possence started because when stoond this will that's hard even I Soluoragh.\n",
      "Thede worked the trentless and then tit shoupp because comme6tattee injection of as binly, get, but is espectuct, say ot like happintently othens oun port-erudent of onavrays.\n",
      ".\n",
      ".\n",
      "Meraing the Futwerforless.\n",
      "\tWhen Svast bod fact and stoboch on Eortimmed the nues.\n",
      "[2] >7 jas in your fram Wo bust of the big is nuar s of progging things, it didn't we de off yid light did, were proken you're carent to genarely wriving we promes.\n",
      "And sige for be racarmss attentiate.\n",
      "In un the attran a veally and you cance, qutuateds, mething eiful obe which on of a Cap Aigio sonting laterpers with grow, insisions.\n",
      "[1] S-mise, it's sulshiong on You have to paself endinage you, they go ask from the resisting, but things, but hid ewcatingly 19mas thode some of the nears and suck of iveed.\n",
      ".\n",
      ".\n",
      "Goteralized pCoblem having you can meading the not to be prisiblicaliong the couldes this that's the rater startups.\n"
     ]
    }
   ],
   "source": [
    "## sampling from the models - generation step\n",
    "\n",
    "g = torch.Generator().manual_seed(2147483647)\n",
    "\n",
    "for _ in range(20):\n",
    "    \n",
    "    out     = []\n",
    "    context = [0]*block_size\n",
    "    \n",
    "    while True:\n",
    "        \n",
    "        logits   = model(torch.tensor(context).view(1,-1))\n",
    "        probs    = F.softmax(logits, dim = 1)\n",
    "        ix       = torch.multinomial(probs, num_samples = 1, generator =g).item()\n",
    "        context  = context[1:] + [ix]\n",
    "        out.append(itos[ix])\n",
    "        if ix == 14:\n",
    "            break\n",
    "        \n",
    "    print(\"\".join(out))"
   ]
  },
  {
   "cell_type": "code",
   "execution_count": null,
   "id": "8c859845",
   "metadata": {},
   "outputs": [],
   "source": [
    "## Visualization of what's happening"
   ]
  }
 ],
 "metadata": {
  "kernelspec": {
   "display_name": "python tf_env",
   "language": "python",
   "name": "tf_env"
  },
  "language_info": {
   "codemirror_mode": {
    "name": "ipython",
    "version": 3
   },
   "file_extension": ".py",
   "mimetype": "text/x-python",
   "name": "python",
   "nbconvert_exporter": "python",
   "pygments_lexer": "ipython3",
   "version": "3.11.9"
  }
 },
 "nbformat": 4,
 "nbformat_minor": 5
}
