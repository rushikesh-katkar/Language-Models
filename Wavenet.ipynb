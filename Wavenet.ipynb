{
 "cells": [
  {
   "cell_type": "markdown",
   "id": "3ac10e7b",
   "metadata": {},
   "source": [
    "# Wavenet"
   ]
  },
  {
   "cell_type": "code",
   "execution_count": 1,
   "id": "4b955d57",
   "metadata": {},
   "outputs": [],
   "source": [
    "import torch\n",
    "import torch.nn.functional as F\n",
    "import matplotlib.pyplot as plt\n",
    "%matplotlib inline"
   ]
  },
  {
   "cell_type": "code",
   "execution_count": 5,
   "id": "c1f41c13",
   "metadata": {},
   "outputs": [
    {
     "data": {
      "text/plain": [
       "['March 2024',\n",
       " '',\n",
       " 'I met the Reddits before we even started Y Combinator. In fact they were one of the reasons we started it.',\n",
       " '',\n",
       " \"YC grew out of a talk I gave to the Harvard Computer Society (the undergrad computer club) about how to start a startup. Everyone else in the audience was probably local, but Steve and Alexis came up on the train from the University of Virginia, where they were seniors. Since they'd come so far I agreed to meet them for coffee. They told me about the startup idea we'd later fund them to drop: a way to order fast food on your cellphone.\",\n",
       " '',\n",
       " \"This was before smartphones. They'd have had to make deals with cell carriers and fast food chains just to get it launched. So it was not going to happen. It still doesn't exist, 19 years later. But I was impressed with their brains and their energy. In fact I was so impressed with them and some of the other people I met at that talk that I decided to start something to fund them. A few days later I told Steve and Alexis that we were starting Y Combinator, and encouraged them to apply.\",\n",
       " '',\n",
       " 'That first batch we didn\\'t have any way to identify applicants, so we made up nicknames for them. The Reddits were the \"Cell food muffins.\" \"Muffin\" is a term of endearment Jessica uses for things like small dogs and two year olds. So that gives you some idea what kind of impression Steve and Alexis made in those days. They had the look of slightly ruffled surprise that baby birds have.',\n",
       " '']"
      ]
     },
     "execution_count": 5,
     "metadata": {},
     "output_type": "execute_result"
    }
   ],
   "source": [
    "# words = open(\"names.txt\", \"r\").read().splitlines()\n",
    "words = open(\"1.Abstract.txt\").read().splitlines()\n",
    "words[:10]"
   ]
  },
  {
   "cell_type": "code",
   "execution_count": 6,
   "id": "581bec2f",
   "metadata": {},
   "outputs": [
    {
     "data": {
      "text/plain": [
       "8467"
      ]
     },
     "execution_count": 6,
     "metadata": {},
     "output_type": "execute_result"
    }
   ],
   "source": [
    "len(words)"
   ]
  },
  {
   "cell_type": "code",
   "execution_count": 8,
   "id": "d3ce348b",
   "metadata": {},
   "outputs": [],
   "source": [
    "### mappings \n",
    "chars = sorted(list(set(\"\".join(words))))\n",
    "if \".\" in chars:\n",
    "    stoi = {s:i for i,s in enumerate(chars)}\n",
    "else:\n",
    "    stoi = {s:i+1 for i,s in enumerate(chars)}\n",
    "    stoi[\".\"] = 0\n",
    "    \n",
    "itos = {i:s for s,i in stoi.items()}\n",
    "\n",
    "vocab_size = len(itos)"
   ]
  },
  {
   "cell_type": "code",
   "execution_count": 9,
   "id": "599db508",
   "metadata": {},
   "outputs": [
    {
     "data": {
      "text/plain": [
       "99"
      ]
     },
     "execution_count": 9,
     "metadata": {},
     "output_type": "execute_result"
    }
   ],
   "source": [
    "vocab_size"
   ]
  },
  {
   "cell_type": "code",
   "execution_count": 10,
   "id": "93efb83e",
   "metadata": {},
   "outputs": [
    {
     "name": "stdout",
     "output_type": "stream",
     "text": [
      "torch.Size([1075300, 8]) torch.Size([1075300])\n",
      "torch.Size([143184, 8]) torch.Size([143184])\n",
      "torch.Size([135902, 8]) torch.Size([135902])\n"
     ]
    }
   ],
   "source": [
    "## build the dataset\n",
    "block_size = 8\n",
    "\n",
    "def build_data(words):\n",
    "    X, Y = [], []\n",
    "    for w in words:\n",
    "        context = [0]*block_size\n",
    "        for ch in w + \".\":\n",
    "            ix = stoi[ch]\n",
    "            Y.append(ix)\n",
    "            X.append(context)\n",
    "            context = context[1:] + [ix]\n",
    "    \n",
    "    X = torch.tensor(X)\n",
    "    Y = torch.tensor(Y)\n",
    "    print(X.shape, Y.shape)\n",
    "    return X, Y\n",
    "\n",
    "\n",
    "import random \n",
    "random.seed(42)\n",
    "random.shuffle(words)\n",
    "n1 = int(0.8*len(words))\n",
    "n2 = int(0.9*len(words))\n",
    "\n",
    "Xtr, Ytr   = build_data(words[:n1])     ## train 80%\n",
    "Xval, Yval = build_data(words[n1:n2])   ## val   10%\n",
    "Xte, Yte   = build_data(words[n2:])     ## test  10%\n"
   ]
  },
  {
   "cell_type": "code",
   "execution_count": 11,
   "id": "9e72df4d",
   "metadata": {},
   "outputs": [],
   "source": [
    "g = torch.Generator().manual_seed(2100)\n",
    "\n",
    "############################################## LINEAR LAYER ##############################################\n",
    "class Linear:\n",
    "\n",
    "    def __init__(self, fan_in, fan_out, generator = g, bias = True):\n",
    "        self.weights = torch.randn((fan_in, fan_out),  generator = g) * (1/fan_in**0.5)\n",
    "        self.bias  = torch.randn(fan_out,  generator = g) if bias else None\n",
    "        self.training = True\n",
    "        \n",
    "    def __call__(self, x):\n",
    "        self.out = x @ self.weights\n",
    "        if self.bias is not None:\n",
    "            self.out += self.bias\n",
    "        return self.out\n",
    "    \n",
    "    def parameters(self):\n",
    "        return [self.weights] + ([] if self.bias is None else [self.bias])\n",
    "    \n",
    "############################################## BATCH NORM LAYER ##############################################\n",
    "\n",
    "class BatchNormld:\n",
    "    \n",
    "    def __init__(self, dim, eps= 1e-5, momentum = 0.01,training = True):\n",
    "        \n",
    "        self.eps = eps\n",
    "        self.momentum = momentum\n",
    "        \n",
    "        self.training = True\n",
    "        ## trainable parameters\n",
    "        self.gamma = torch.ones((dim,))\n",
    "        self.beta  = torch.zeros((dim,))\n",
    "        \n",
    "        ## running estimates of mean and var\n",
    "        \n",
    "        self.mean_running = torch.zeros((dim,))\n",
    "        self.var_running  = torch.ones((dim,))\n",
    "        \n",
    "    def __call__(self, x):\n",
    "        \n",
    "        if self.training:\n",
    "            \n",
    "            xmean = x.mean(0, keepdim = True)\n",
    "            xvar  = x.var(0, keepdim = True)\n",
    "        else:\n",
    "            \n",
    "            xmean = self.mean_running\n",
    "            xvar  = self.var_running\n",
    "            \n",
    "        with torch.no_grad():\n",
    "            if self.training:\n",
    "                self.mean_running = (1-self.momentum)*self.mean_running + self.momentum*xmean\n",
    "                self.var_running  = (1-self.momentum)*self.var_running  + self.momentum*xvar\n",
    "        \n",
    "        self.out = (x - xmean)/torch.sqrt(xvar + self.eps)\n",
    "        self.out = self.gamma * self.out + self.beta\n",
    "        \n",
    "        return self.out\n",
    "    \n",
    "    def parameters(self):\n",
    "        return [self.gamma, self.beta]\n",
    "############################################## TANH LAYER ##############################################\n",
    "class Tanh:\n",
    "    def __call__(self, x):\n",
    "        self.out = torch.tanh(x)\n",
    "        return self.out\n",
    "    \n",
    "    def parameters(self):\n",
    "        return []\n",
    "    \n",
    "############################################# Embedding layer ##########################################################\n",
    "\n",
    "class Embedding:\n",
    "    def __init__(self, vocab_size, n_emb, generator = g):\n",
    "        self.C = torch.randn((vocab_size, n_emb),  generator = g) \n",
    "        self.training = True\n",
    "        \n",
    "    def __call__(self, x):\n",
    "        self.out = self.C[x]\n",
    "        return self.out\n",
    "    \n",
    "    def parameters(self):\n",
    "        return [self.C] \n",
    "############################################# Flatten Layer ##########################################################\n",
    "\n",
    "class Flatten:\n",
    "    \n",
    "    def __call__(self, x): \n",
    "        self.out = x.view(x.shape[0], -1)\n",
    "        return self.out\n",
    "    \n",
    "    def parameters(self):\n",
    "        return [] \n",
    "\n",
    "############################################# Container ##########################################################\n",
    " \n",
    "class Sequential:\n",
    "    \n",
    "    def __init__(self, layers, generator = g):\n",
    "        self.layers = layers\n",
    "        self.training = True\n",
    "        \n",
    "    def __call__(self, x):\n",
    "        for layer in self.layers:\n",
    "            x = layer(x)\n",
    "        self.out = x\n",
    "        return self.out\n",
    "    \n",
    "    def parameters(self):\n",
    "        parameters = [p for layer in layers for p in layer.parameters()]\n",
    "        return parameters \n",
    "    "
   ]
  },
  {
   "cell_type": "code",
   "execution_count": 13,
   "id": "84a21792",
   "metadata": {},
   "outputs": [],
   "source": [
    "### lets create a Flatten consecutive module\n",
    "class FlattenConsecutive:\n",
    "    \n",
    "    def __init__(self, n):\n",
    "        self.n = n\n",
    "        \n",
    "    def __call__(self, x):\n",
    "        B,T,C = x.shape\n",
    "        x = x.view(B, T//self.n, C*self.n)\n",
    "        if x.shape[1] == 1:\n",
    "            ## if there is a spurious dimention( dim == 1)\n",
    "            x = x.squeeze(1)\n",
    "        self.out = x\n",
    "        return self.out\n",
    "    \n",
    "    def parameters(self):\n",
    "        return []\n",
    "\n",
    "### There is a Bug in BatchNorm\n",
    "############################################## BATCH NORM LAYER ##############################################\n",
    "\n",
    "class BatchNormld:\n",
    "    \n",
    "    def __init__(self, dim, eps= 1e-5, momentum = 0.01,training = True):\n",
    "        \n",
    "        self.eps = eps\n",
    "        self.momentum = momentum\n",
    "        \n",
    "        self.training = True\n",
    "        ## trainable parameters\n",
    "        self.gamma = torch.ones((dim,))\n",
    "        self.beta  = torch.zeros((dim,))\n",
    "        \n",
    "        ## running estimates of mean and var\n",
    "        \n",
    "        self.mean_running = torch.zeros((dim,))\n",
    "        self.var_running  = torch.ones((dim,))\n",
    "        \n",
    "    def __call__(self, x):\n",
    "        \n",
    "        if self.training:\n",
    "            if x.ndim ==2:\n",
    "                dim = 0\n",
    "            elif x.ndim ==3:\n",
    "                dim = (0,1)\n",
    "                \n",
    "            xmean = x.mean(dim, keepdim = True)\n",
    "            xvar  = x.var(dim, keepdim = True)\n",
    "        else:\n",
    "            \n",
    "            xmean = self.mean_running\n",
    "            xvar  = self.var_running\n",
    "            \n",
    "        with torch.no_grad():\n",
    "            if self.training:\n",
    "                self.mean_running = (1-self.momentum)*self.mean_running + self.momentum*xmean\n",
    "                self.var_running  = (1-self.momentum)*self.var_running  + self.momentum*xvar\n",
    "        \n",
    "        self.out = (x - xmean)/torch.sqrt(xvar + self.eps)\n",
    "        self.out = self.gamma * self.out + self.beta\n",
    "        \n",
    "        return self.out\n",
    "    \n",
    "    def parameters(self):\n",
    "        return [self.gamma, self.beta]"
   ]
  },
  {
   "cell_type": "code",
   "execution_count": 14,
   "id": "26212280",
   "metadata": {},
   "outputs": [],
   "source": [
    "g = torch.Generator().manual_seed(2100)\n",
    "nemb    = 20\n",
    "nhidden = 200\n",
    "\n",
    "# the model\n",
    "\n",
    "layers = [Embedding(vocab_size, nemb),FlattenConsecutive(2),\n",
    "          Linear(2*nemb, nhidden, generator = g), BatchNormld(nhidden), Tanh(), FlattenConsecutive(2),\n",
    "          Linear(2*nhidden, nhidden, generator = g), BatchNormld(nhidden), Tanh(),FlattenConsecutive(2),\n",
    "          Linear(2*nhidden, vocab_size, generator = g)]\n",
    "\n",
    "model = Sequential(layers)\n",
    "\n",
    "\n",
    "with torch.no_grad():\n",
    " # make model less confident at initialization\n",
    "    model.layers[-1].weights *= 0.1\n",
    " # apply gain for well behaved inputs to Tanh\n",
    "    for layer in model.layers[1:-1]: ## not applied to the Emb and last layers\n",
    "        if  isinstance(layer, Linear):\n",
    "            layer.weights *= 5/3      #### Kaiming Normalization\n",
    "\n",
    "\n",
    "for p in model.parameters():\n",
    "    p.requires_grad = True\n",
    "\n"
   ]
  },
  {
   "cell_type": "code",
   "execution_count": 15,
   "id": "e01d6b44",
   "metadata": {},
   "outputs": [
    {
     "name": "stdout",
     "output_type": "stream",
     "text": [
      "      0/ 200000 : 4.8524\n",
      "  10000/ 200000 : 1.9311\n",
      "  20000/ 200000 : 1.8268\n",
      "  30000/ 200000 : 1.8019\n",
      "  40000/ 200000 : 1.8855\n",
      "  50000/ 200000 : 1.4739\n",
      "  60000/ 200000 : 1.5340\n",
      "  70000/ 200000 : 1.5611\n",
      "  80000/ 200000 : 1.4131\n",
      "  90000/ 200000 : 1.4183\n",
      " 100000/ 200000 : 1.6851\n",
      " 110000/ 200000 : 1.5175\n",
      " 120000/ 200000 : 1.3281\n",
      " 130000/ 200000 : 1.4785\n",
      " 140000/ 200000 : 1.5206\n",
      " 150000/ 200000 : 1.5150\n",
      " 160000/ 200000 : 1.3137\n",
      " 170000/ 200000 : 1.4080\n",
      " 180000/ 200000 : 1.4506\n",
      " 190000/ 200000 : 1.4794\n"
     ]
    }
   ],
   "source": [
    "### Stochastic Gradient Descent\n",
    "\n",
    "epochs     = 200000\n",
    "batch_size = 200\n",
    "history    = []\n",
    "ud         = [] ## update ratio (lr x grad/data)\n",
    "for epoch in range(epochs):\n",
    "    \n",
    "    ## Construct Mini Batch\n",
    "    ix = torch.randint(0, Xtr.shape[0], (batch_size,), generator = g)\n",
    "    xb, yb = Xtr[ix], Ytr[ix]\n",
    "    \n",
    "    ## forward pass\n",
    "    logits = model(xb)\n",
    "    loss = F.cross_entropy(logits, yb)\n",
    "    \n",
    "    ## Backward pass\n",
    "    for layer in model.layers:\n",
    "        layer.out.retain_grad() ## would take out the retain graph\n",
    "        \n",
    "    for p in model.parameters():\n",
    "        p.grad = None\n",
    "    \n",
    "    loss.backward()\n",
    "    \n",
    "    ## update\n",
    "    \n",
    "    lr = 0.01 if epoch < 100000 else 0.001\n",
    "    \n",
    "    for p in model.parameters():\n",
    "        p.data -= lr*p.grad\n",
    "    \n",
    "    ## track stats\n",
    "    if epoch%10000 == 0:\n",
    "        print(f'{epoch:7d}/{epochs:7d} : {loss.item():.4f}')\n",
    "           \n",
    "    history.append(loss.item())\n",
    "    \n",
    "#     break"
   ]
  },
  {
   "cell_type": "code",
   "execution_count": 16,
   "id": "7c6fddfc",
   "metadata": {},
   "outputs": [
    {
     "name": "stdout",
     "output_type": "stream",
     "text": [
      "Embedding : (200, 8, 20)\n",
      "FlattenConsecutive : (200, 4, 40)\n",
      "Linear : (200, 4, 200)\n",
      "BatchNormld : (200, 4, 200)\n",
      "Tanh : (200, 4, 200)\n",
      "FlattenConsecutive : (200, 2, 400)\n",
      "Linear : (200, 2, 200)\n",
      "BatchNormld : (200, 2, 200)\n",
      "Tanh : (200, 2, 200)\n",
      "FlattenConsecutive : (200, 400)\n",
      "Linear : (200, 99)\n"
     ]
    }
   ],
   "source": [
    "for layer in model.layers:\n",
    "    print(layer.__class__.__name__, \":\", tuple(layer.out.shape))"
   ]
  },
  {
   "cell_type": "code",
   "execution_count": 17,
   "id": "fa42750d",
   "metadata": {},
   "outputs": [
    {
     "data": {
      "image/png": "[encoded data removed]",
      "text/plain": [
       "<Figure size 640x480 with 1 Axes>"
      ]
     },
     "metadata": {},
     "output_type": "display_data"
    }
   ],
   "source": [
    "plt.plot(torch.tensor(history).view(-1, 1000).mean(1));"
   ]
  },
  {
   "cell_type": "code",
   "execution_count": 18,
   "id": "f23eed1c",
   "metadata": {},
   "outputs": [],
   "source": [
    "### Put model in train == False model\n",
    "for layer in model.layers:\n",
    "    layer.training = False"
   ]
  },
  {
   "cell_type": "code",
   "execution_count": null,
   "id": "c6493579",
   "metadata": {},
   "outputs": [],
   "source": [
    "## Evaluate the model\n",
    "@torch.no_grad() ## disables grad tracking\n",
    "def split_loss(split):\n",
    "    x,y = {'train': (Xtr, Ytr),\n",
    "           'val':   (Xval, Yval),\n",
    "           'test':  (Xte, Yte)}[split]\n",
    "    \n",
    "    logits = model(x)\n",
    "    loss   = F.cross_entropy(logits, y)\n",
    "    \n",
    "    print(split, loss.item())\n",
    "    \n",
    "split_loss('train')\n",
    "split_loss('val')\n",
    "# split_loss('test') "
   ]
  },
  {
   "cell_type": "code",
   "execution_count": null,
   "id": "bc066f57",
   "metadata": {},
   "outputs": [],
   "source": [
    "## sampling from the models - generation step\n",
    "\n",
    "g = torch.Generator().manual_seed(2147483647)\n",
    "\n",
    "for _ in range(20):\n",
    "    \n",
    "    out     = []\n",
    "    context = [0]*block_size\n",
    "    \n",
    "    while True:\n",
    "        \n",
    "        logits   = model(torch.tensor(context).view(1,-1))\n",
    "        probs    = F.softmax(logits, dim = 1)\n",
    "        ix       = torch.multinomial(probs, num_samples = 1, generator =g).item()\n",
    "        context  = context[1:] + [ix]\n",
    "        out.append(itos[ix])\n",
    "        if ix == 14:\n",
    "            break\n",
    "        \n",
    "    print(\"\".join(out))"
   ]
  },
  {
   "cell_type": "code",
   "execution_count": null,
   "id": "8c882e75",
   "metadata": {},
   "outputs": [],
   "source": []
  },
  {
   "cell_type": "code",
   "execution_count": null,
   "id": "5cef0571",
   "metadata": {},
   "outputs": [],
   "source": []
  }
 ],
 "metadata": {
  "kernelspec": {
   "display_name": "python tf_env",
   "language": "python",
   "name": "tf_env"
  },
  "language_info": {
   "codemirror_mode": {
    "name": "ipython",
    "version": 3
   },
   "file_extension": ".py",
   "mimetype": "text/x-python",
   "name": "python",
   "nbconvert_exporter": "python",
   "pygments_lexer": "ipython3",
   "version": "3.11.9"
  }
 },
 "nbformat": 4,
 "nbformat_minor": 5
}
